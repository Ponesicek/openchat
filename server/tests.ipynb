{
 "cells": [
  {
   "cell_type": "markdown",
   "id": "b1310ab0",
   "metadata": {},
   "source": [
    "Benchmark: RTX 4060 ti 16GB Time to first byte: 0.704 seconds; No stutter; "
   ]
  },
  {
   "cell_type": "code",
   "execution_count": 1,
   "id": "081127c0",
   "metadata": {},
   "outputs": [],
   "source": [
    "import requests\n",
    "import sounddevice as sd\n",
    "import numpy as np\n",
    "\n",
    "text = \"Everyone has the right to freedom of thought, conscience and religion; this right includes freedom to change his religion or belief, and freedom, either alone or in community with others and in public or private, to manifest his religion or belief in teaching, practice, worship and observance.\"\n",
    "voice=\"E:\\\\AI\\\\openchat\\\\server\\\\voice.ogg\"\n",
    "prompt_text=\"Aloy here. I don't know this world, but my arrows are sharp and my bow's ready. If your party needs help, I'll do what I can.\"\n",
    "prompt_text=\"The work of the astrologer is to show people what fate has in store for them, and that's exactly what I do.\"\n",
    "\n",
    "url = (\n",
    "    \"http://127.0.0.1:9880/tts\"\n",
    "    \"?text={}\"\n",
    "    \"&text_lang=en\"\n",
    "    \"&ref_audio_path={}\"\n",
    "    \"&prompt_lang=en\"\n",
    "    \"&prompt_text={}\"\n",
    "    \"&text_split_method=cut5\"\n",
    "    \"&batch_size=1\"\n",
    "    \"&media_type=wav\"\n",
    "    \"&streaming_mode=true\"\n",
    ").format(text, voice, prompt_text)\n",
    "\n",
    "samplerate = 32000 \n",
    "channels = 1  # or 2 depending on your TTS output"
   ]
  },
  {
   "cell_type": "code",
   "execution_count": null,
   "id": "521013b7",
   "metadata": {},
   "outputs": [
    {
     "ename": "KeyboardInterrupt",
     "evalue": "",
     "output_type": "error",
     "traceback": [
      "\u001b[1;31m---------------------------------------------------------------------------\u001b[0m",
      "\u001b[1;31mKeyboardInterrupt\u001b[0m                         Traceback (most recent call last)",
      "Cell \u001b[1;32mIn[2], line 16\u001b[0m\n\u001b[0;32m     14\u001b[0m audio_array \u001b[38;5;241m=\u001b[39m np\u001b[38;5;241m.\u001b[39mfrombuffer(chunk, dtype\u001b[38;5;241m=\u001b[39mnp\u001b[38;5;241m.\u001b[39mint16)\n\u001b[0;32m     15\u001b[0m \u001b[38;5;28;01mif\u001b[39;00m \u001b[38;5;28mlen\u001b[39m(audio_array) \u001b[38;5;241m>\u001b[39m \u001b[38;5;241m0\u001b[39m:\n\u001b[1;32m---> 16\u001b[0m     \u001b[43mstream\u001b[49m\u001b[38;5;241;43m.\u001b[39;49m\u001b[43mwrite\u001b[49m\u001b[43m(\u001b[49m\u001b[43maudio_array\u001b[49m\u001b[43m)\u001b[49m\n",
      "File \u001b[1;32me:\\AI\\openchat\\server\\.venv\\lib\\site-packages\\sounddevice.py:1565\u001b[0m, in \u001b[0;36mOutputStream.write\u001b[1;34m(self, data)\u001b[0m\n\u001b[0;32m   1563\u001b[0m \u001b[38;5;28;01mif\u001b[39;00m \u001b[38;5;129;01mnot\u001b[39;00m data\u001b[38;5;241m.\u001b[39mflags\u001b[38;5;241m.\u001b[39mc_contiguous:\n\u001b[0;32m   1564\u001b[0m     \u001b[38;5;28;01mraise\u001b[39;00m \u001b[38;5;167;01mTypeError\u001b[39;00m(\u001b[38;5;124m'\u001b[39m\u001b[38;5;124mdata must be C-contiguous\u001b[39m\u001b[38;5;124m'\u001b[39m)\n\u001b[1;32m-> 1565\u001b[0m \u001b[38;5;28;01mreturn\u001b[39;00m \u001b[43mRawOutputStream\u001b[49m\u001b[38;5;241;43m.\u001b[39;49m\u001b[43mwrite\u001b[49m\u001b[43m(\u001b[49m\u001b[38;5;28;43mself\u001b[39;49m\u001b[43m,\u001b[49m\u001b[43m \u001b[49m\u001b[43mdata\u001b[49m\u001b[43m)\u001b[49m\n",
      "File \u001b[1;32me:\\AI\\openchat\\server\\.venv\\lib\\site-packages\\sounddevice.py:1342\u001b[0m, in \u001b[0;36mRawOutputStream.write\u001b[1;34m(self, data)\u001b[0m\n\u001b[0;32m   1340\u001b[0m \u001b[38;5;28;01mif\u001b[39;00m remainder:\n\u001b[0;32m   1341\u001b[0m     \u001b[38;5;28;01mraise\u001b[39;00m \u001b[38;5;167;01mValueError\u001b[39;00m(\u001b[38;5;124m'\u001b[39m\u001b[38;5;124mNumber of samples not divisible by channels\u001b[39m\u001b[38;5;124m'\u001b[39m)\n\u001b[1;32m-> 1342\u001b[0m err \u001b[38;5;241m=\u001b[39m \u001b[43m_lib\u001b[49m\u001b[38;5;241;43m.\u001b[39;49m\u001b[43mPa_WriteStream\u001b[49m\u001b[43m(\u001b[49m\u001b[38;5;28;43mself\u001b[39;49m\u001b[38;5;241;43m.\u001b[39;49m\u001b[43m_ptr\u001b[49m\u001b[43m,\u001b[49m\u001b[43m \u001b[49m\u001b[43mdata\u001b[49m\u001b[43m,\u001b[49m\u001b[43m \u001b[49m\u001b[43mframes\u001b[49m\u001b[43m)\u001b[49m\n\u001b[0;32m   1343\u001b[0m \u001b[38;5;28;01mif\u001b[39;00m err \u001b[38;5;241m==\u001b[39m _lib\u001b[38;5;241m.\u001b[39mpaOutputUnderflowed:\n\u001b[0;32m   1344\u001b[0m     underflowed \u001b[38;5;241m=\u001b[39m \u001b[38;5;28;01mTrue\u001b[39;00m\n",
      "\u001b[1;31mKeyboardInterrupt\u001b[0m: "
     ]
    }
   ],
   "source": [
    "with requests.get(url, stream=True) as r:\n",
    "    header_skipped = False\n",
    "    with sd.OutputStream(samplerate=samplerate, channels=channels, dtype=\"int16\") as stream:\n",
    "        for chunk in r.iter_content(chunk_size=4096):\n",
    "            if not chunk:\n",
    "                continue\n",
    "            if not header_skipped:\n",
    "                # Skip WAV header (44 bytes for PCM)\n",
    "                if len(chunk) <= 44:\n",
    "                    continue\n",
    "                chunk = chunk[44:]\n",
    "                header_skipped = True\n",
    "            audio_array = np.frombuffer(chunk, dtype=np.int16)\n",
    "            if len(audio_array) > 0:\n",
    "                stream.write(audio_array)"
   ]
  }
 ],
 "metadata": {
  "kernelspec": {
   "display_name": ".venv",
   "language": "python",
   "name": "python3"
  },
  "language_info": {
   "codemirror_mode": {
    "name": "ipython",
    "version": 3
   },
   "file_extension": ".py",
   "mimetype": "text/x-python",
   "name": "python",
   "nbconvert_exporter": "python",
   "pygments_lexer": "ipython3",
   "version": "3.10.11"
  }
 },
 "nbformat": 4,
 "nbformat_minor": 5
}
