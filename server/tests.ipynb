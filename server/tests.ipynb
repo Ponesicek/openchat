{
 "cells": [
  {
   "cell_type": "markdown",
   "id": "b1310ab0",
   "metadata": {},
   "source": [
    "Benchmark: RTX 4060 ti 16GB Time to first byte: 0.704 seconds; No stutter; "
   ]
  },
  {
   "cell_type": "code",
   "execution_count": 2,
   "id": "081127c0",
   "metadata": {},
   "outputs": [],
   "source": [
    "import requests\n",
    "import sounddevice as sd\n",
    "import numpy as np\n",
    "\n",
    "text = \"Everyone has the right to freedom of thought, conscience and religion; this right includes freedom to change his religion or belief, and freedom, either alone or in community with others and in public or private, to manifest his religion or belief in teaching, practice, worship and observance.\"\n",
    "voice=\"E:\\\\AI\\\\openchat\\\\server\\\\voice.ogg\"\n",
    "prompt_text=\"Aloy here. I don't know this world, but my arrows are sharp and my bow's ready. If your party needs help, I'll do what I can.\"\n",
    "\n",
    "url = (\n",
    "    \"http://127.0.0.1:9880/tts\"\n",
    "    \"?text={}\"\n",
    "    \"&text_lang=en\"\n",
    "    \"&ref_audio_path={}\"\n",
    "    \"&prompt_lang=en\"\n",
    "    \"&prompt_text={}\"\n",
    "    \"&text_split_method=cut5\"\n",
    "    \"&batch_size=1\"\n",
    "    \"&media_type=wav\"\n",
    "    \"&streaming_mode=true\"\n",
    ").format(text, voice, prompt_text)\n",
    "\n",
    "samplerate = 32000 \n",
    "channels = 1  # or 2 depending on your TTS output"
   ]
  },
  {
   "cell_type": "code",
   "execution_count": 3,
   "id": "521013b7",
   "metadata": {},
   "outputs": [],
   "source": [
    "with requests.get(url, stream=True) as r:\n",
    "    header_skipped = False\n",
    "    with sd.OutputStream(samplerate=samplerate, channels=channels, dtype=\"int16\") as stream:\n",
    "        for chunk in r.iter_content(chunk_size=4096):\n",
    "            if not chunk:\n",
    "                continue\n",
    "            if not header_skipped:\n",
    "                # Skip WAV header (44 bytes for PCM)\n",
    "                if len(chunk) <= 44:\n",
    "                    continue\n",
    "                chunk = chunk[44:]\n",
    "                header_skipped = True\n",
    "            audio_array = np.frombuffer(chunk, dtype=np.int16)\n",
    "            if len(audio_array) > 0:\n",
    "                stream.write(audio_array)"
   ]
  },
  {
   "cell_type": "code",
   "execution_count": 1,
   "id": "7cc7ffb0",
   "metadata": {},
   "outputs": [
    {
     "ename": "RuntimeError",
     "evalue": "espeak not installed on your system",
     "output_type": "error",
     "traceback": [
      "\u001b[1;31m---------------------------------------------------------------------------\u001b[0m",
      "\u001b[1;31mRuntimeError\u001b[0m                              Traceback (most recent call last)",
      "Cell \u001b[1;32mIn[1], line 10\u001b[0m\n\u001b[0;32m      7\u001b[0m audio_path\u001b[38;5;241m=\u001b[39m\u001b[38;5;124m\"\u001b[39m\u001b[38;5;124mE:\u001b[39m\u001b[38;5;130;01m\\\\\u001b[39;00m\u001b[38;5;124mAI\u001b[39m\u001b[38;5;130;01m\\\\\u001b[39;00m\u001b[38;5;124mopenchat\u001b[39m\u001b[38;5;130;01m\\\\\u001b[39;00m\u001b[38;5;124mserver\u001b[39m\u001b[38;5;130;01m\\\\\u001b[39;00m\u001b[38;5;124mvoice.wav\u001b[39m\u001b[38;5;124m\"\u001b[39m\n\u001b[0;32m      9\u001b[0m \u001b[38;5;66;03m# Step 1: Convert text to phonemes\u001b[39;00m\n\u001b[1;32m---> 10\u001b[0m phonemes_str \u001b[38;5;241m=\u001b[39m \u001b[43mphonemize\u001b[49m\u001b[43m(\u001b[49m\n\u001b[0;32m     11\u001b[0m \u001b[43m    \u001b[49m\u001b[43mtext\u001b[49m\u001b[43m,\u001b[49m\n\u001b[0;32m     12\u001b[0m \u001b[43m    \u001b[49m\u001b[43mlanguage\u001b[49m\u001b[38;5;241;43m=\u001b[39;49m\u001b[38;5;124;43m'\u001b[39;49m\u001b[38;5;124;43men-us\u001b[39;49m\u001b[38;5;124;43m'\u001b[39;49m\u001b[43m,\u001b[49m\n\u001b[0;32m     13\u001b[0m \u001b[43m    \u001b[49m\u001b[43mbackend\u001b[49m\u001b[38;5;241;43m=\u001b[39;49m\u001b[38;5;124;43m'\u001b[39;49m\u001b[38;5;124;43mespeak\u001b[39;49m\u001b[38;5;124;43m'\u001b[39;49m\u001b[43m,\u001b[49m\n\u001b[0;32m     14\u001b[0m \u001b[43m    \u001b[49m\u001b[43mstrip\u001b[49m\u001b[38;5;241;43m=\u001b[39;49m\u001b[38;5;28;43;01mTrue\u001b[39;49;00m\u001b[43m,\u001b[49m\n\u001b[0;32m     15\u001b[0m \u001b[43m    \u001b[49m\u001b[43mpreserve_punctuation\u001b[49m\u001b[38;5;241;43m=\u001b[39;49m\u001b[38;5;28;43;01mFalse\u001b[39;49;00m\n\u001b[0;32m     16\u001b[0m \u001b[43m)\u001b[49m\n\u001b[0;32m     17\u001b[0m phonemes \u001b[38;5;241m=\u001b[39m phonemes_str\u001b[38;5;241m.\u001b[39msplit()\n\u001b[0;32m     19\u001b[0m \u001b[38;5;66;03m# Step 2: Get audio duration\u001b[39;00m\n",
      "File \u001b[1;32me:\\AI\\openchat\\server\\.venv\\lib\\site-packages\\phonemizer\\phonemize.py:206\u001b[0m, in \u001b[0;36mphonemize\u001b[1;34m(text, language, backend, separator, strip, prepend_text, preserve_empty_lines, preserve_punctuation, punctuation_marks, with_stress, tie, language_switch, words_mismatch, njobs, logger)\u001b[0m\n\u001b[0;32m    204\u001b[0m \u001b[38;5;66;03m# initialize the phonemization backend\u001b[39;00m\n\u001b[0;32m    205\u001b[0m \u001b[38;5;28;01mif\u001b[39;00m backend \u001b[38;5;241m==\u001b[39m \u001b[38;5;124m'\u001b[39m\u001b[38;5;124mespeak\u001b[39m\u001b[38;5;124m'\u001b[39m:\n\u001b[1;32m--> 206\u001b[0m     phonemizer \u001b[38;5;241m=\u001b[39m \u001b[43mBACKENDS\u001b[49m\u001b[43m[\u001b[49m\u001b[43mbackend\u001b[49m\u001b[43m]\u001b[49m\u001b[43m(\u001b[49m\n\u001b[0;32m    207\u001b[0m \u001b[43m        \u001b[49m\u001b[43mlanguage\u001b[49m\u001b[43m,\u001b[49m\n\u001b[0;32m    208\u001b[0m \u001b[43m        \u001b[49m\u001b[43mpunctuation_marks\u001b[49m\u001b[38;5;241;43m=\u001b[39;49m\u001b[43mpunctuation_marks\u001b[49m\u001b[43m,\u001b[49m\n\u001b[0;32m    209\u001b[0m \u001b[43m        \u001b[49m\u001b[43mpreserve_punctuation\u001b[49m\u001b[38;5;241;43m=\u001b[39;49m\u001b[43mpreserve_punctuation\u001b[49m\u001b[43m,\u001b[49m\n\u001b[0;32m    210\u001b[0m \u001b[43m        \u001b[49m\u001b[43mwith_stress\u001b[49m\u001b[38;5;241;43m=\u001b[39;49m\u001b[43mwith_stress\u001b[49m\u001b[43m,\u001b[49m\n\u001b[0;32m    211\u001b[0m \u001b[43m        \u001b[49m\u001b[43mtie\u001b[49m\u001b[38;5;241;43m=\u001b[39;49m\u001b[43mtie\u001b[49m\u001b[43m,\u001b[49m\n\u001b[0;32m    212\u001b[0m \u001b[43m        \u001b[49m\u001b[43mlanguage_switch\u001b[49m\u001b[38;5;241;43m=\u001b[39;49m\u001b[43mlanguage_switch\u001b[49m\u001b[43m,\u001b[49m\n\u001b[0;32m    213\u001b[0m \u001b[43m        \u001b[49m\u001b[43mwords_mismatch\u001b[49m\u001b[38;5;241;43m=\u001b[39;49m\u001b[43mwords_mismatch\u001b[49m\u001b[43m,\u001b[49m\n\u001b[0;32m    214\u001b[0m \u001b[43m        \u001b[49m\u001b[43mlogger\u001b[49m\u001b[38;5;241;43m=\u001b[39;49m\u001b[43mlogger\u001b[49m\u001b[43m)\u001b[49m\n\u001b[0;32m    215\u001b[0m \u001b[38;5;28;01melif\u001b[39;00m backend \u001b[38;5;241m==\u001b[39m \u001b[38;5;124m'\u001b[39m\u001b[38;5;124mespeak-mbrola\u001b[39m\u001b[38;5;124m'\u001b[39m:\n\u001b[0;32m    216\u001b[0m     phonemizer \u001b[38;5;241m=\u001b[39m BACKENDS[backend](\n\u001b[0;32m    217\u001b[0m         language,\n\u001b[0;32m    218\u001b[0m         logger\u001b[38;5;241m=\u001b[39mlogger)\n",
      "File \u001b[1;32me:\\AI\\openchat\\server\\.venv\\lib\\site-packages\\phonemizer\\backend\\espeak\\espeak.py:45\u001b[0m, in \u001b[0;36mEspeakBackend.__init__\u001b[1;34m(self, language, punctuation_marks, preserve_punctuation, with_stress, tie, language_switch, words_mismatch, logger)\u001b[0m\n\u001b[0;32m     37\u001b[0m \u001b[38;5;28;01mdef\u001b[39;00m\u001b[38;5;250m \u001b[39m\u001b[38;5;21m__init__\u001b[39m(\u001b[38;5;28mself\u001b[39m, language: \u001b[38;5;28mstr\u001b[39m,\n\u001b[0;32m     38\u001b[0m              punctuation_marks: Optional[Union[\u001b[38;5;28mstr\u001b[39m, Pattern]] \u001b[38;5;241m=\u001b[39m \u001b[38;5;28;01mNone\u001b[39;00m,\n\u001b[0;32m     39\u001b[0m              preserve_punctuation: \u001b[38;5;28mbool\u001b[39m \u001b[38;5;241m=\u001b[39m \u001b[38;5;28;01mFalse\u001b[39;00m,\n\u001b[1;32m   (...)\u001b[0m\n\u001b[0;32m     43\u001b[0m              words_mismatch: WordMismatch \u001b[38;5;241m=\u001b[39m \u001b[38;5;124m'\u001b[39m\u001b[38;5;124mignore\u001b[39m\u001b[38;5;124m'\u001b[39m,\n\u001b[0;32m     44\u001b[0m              logger: Optional[Logger] \u001b[38;5;241m=\u001b[39m \u001b[38;5;28;01mNone\u001b[39;00m):\n\u001b[1;32m---> 45\u001b[0m     \u001b[38;5;28;43msuper\u001b[39;49m\u001b[43m(\u001b[49m\u001b[43m)\u001b[49m\u001b[38;5;241;43m.\u001b[39;49m\u001b[38;5;21;43m__init__\u001b[39;49m\u001b[43m(\u001b[49m\n\u001b[0;32m     46\u001b[0m \u001b[43m        \u001b[49m\u001b[43mlanguage\u001b[49m\u001b[43m,\u001b[49m\u001b[43m \u001b[49m\u001b[43mpunctuation_marks\u001b[49m\u001b[38;5;241;43m=\u001b[39;49m\u001b[43mpunctuation_marks\u001b[49m\u001b[43m,\u001b[49m\n\u001b[0;32m     47\u001b[0m \u001b[43m        \u001b[49m\u001b[43mpreserve_punctuation\u001b[49m\u001b[38;5;241;43m=\u001b[39;49m\u001b[43mpreserve_punctuation\u001b[49m\u001b[43m,\u001b[49m\u001b[43m \u001b[49m\u001b[43mlogger\u001b[49m\u001b[38;5;241;43m=\u001b[39;49m\u001b[43mlogger\u001b[49m\u001b[43m)\u001b[49m\n\u001b[0;32m     49\u001b[0m     \u001b[38;5;28mself\u001b[39m\u001b[38;5;241m.\u001b[39m_espeak\u001b[38;5;241m.\u001b[39mset_voice(language)\n\u001b[0;32m     50\u001b[0m     \u001b[38;5;28mself\u001b[39m\u001b[38;5;241m.\u001b[39m_with_stress \u001b[38;5;241m=\u001b[39m with_stress\n",
      "File \u001b[1;32me:\\AI\\openchat\\server\\.venv\\lib\\site-packages\\phonemizer\\backend\\espeak\\base.py:39\u001b[0m, in \u001b[0;36mBaseEspeakBackend.__init__\u001b[1;34m(self, language, punctuation_marks, preserve_punctuation, logger)\u001b[0m\n\u001b[0;32m     35\u001b[0m \u001b[38;5;28;01mdef\u001b[39;00m\u001b[38;5;250m \u001b[39m\u001b[38;5;21m__init__\u001b[39m(\u001b[38;5;28mself\u001b[39m, language: \u001b[38;5;28mstr\u001b[39m,\n\u001b[0;32m     36\u001b[0m              punctuation_marks: Optional[Union[\u001b[38;5;28mstr\u001b[39m, Pattern]] \u001b[38;5;241m=\u001b[39m \u001b[38;5;28;01mNone\u001b[39;00m,\n\u001b[0;32m     37\u001b[0m              preserve_punctuation: \u001b[38;5;28mbool\u001b[39m \u001b[38;5;241m=\u001b[39m \u001b[38;5;28;01mFalse\u001b[39;00m,\n\u001b[0;32m     38\u001b[0m              logger: Optional[Logger] \u001b[38;5;241m=\u001b[39m \u001b[38;5;28;01mNone\u001b[39;00m):\n\u001b[1;32m---> 39\u001b[0m     \u001b[38;5;28;43msuper\u001b[39;49m\u001b[43m(\u001b[49m\u001b[43m)\u001b[49m\u001b[38;5;241;43m.\u001b[39;49m\u001b[38;5;21;43m__init__\u001b[39;49m\u001b[43m(\u001b[49m\n\u001b[0;32m     40\u001b[0m \u001b[43m        \u001b[49m\u001b[43mlanguage\u001b[49m\u001b[43m,\u001b[49m\n\u001b[0;32m     41\u001b[0m \u001b[43m        \u001b[49m\u001b[43mpunctuation_marks\u001b[49m\u001b[38;5;241;43m=\u001b[39;49m\u001b[43mpunctuation_marks\u001b[49m\u001b[43m,\u001b[49m\n\u001b[0;32m     42\u001b[0m \u001b[43m        \u001b[49m\u001b[43mpreserve_punctuation\u001b[49m\u001b[38;5;241;43m=\u001b[39;49m\u001b[43mpreserve_punctuation\u001b[49m\u001b[43m,\u001b[49m\n\u001b[0;32m     43\u001b[0m \u001b[43m        \u001b[49m\u001b[43mlogger\u001b[49m\u001b[38;5;241;43m=\u001b[39;49m\u001b[43mlogger\u001b[49m\u001b[43m)\u001b[49m\n\u001b[0;32m     45\u001b[0m     \u001b[38;5;28mself\u001b[39m\u001b[38;5;241m.\u001b[39m_espeak \u001b[38;5;241m=\u001b[39m EspeakWrapper()\n\u001b[0;32m     46\u001b[0m     \u001b[38;5;28mself\u001b[39m\u001b[38;5;241m.\u001b[39mlogger\u001b[38;5;241m.\u001b[39mdebug(\u001b[38;5;124m'\u001b[39m\u001b[38;5;124mloaded \u001b[39m\u001b[38;5;132;01m%s\u001b[39;00m\u001b[38;5;124m'\u001b[39m, \u001b[38;5;28mself\u001b[39m\u001b[38;5;241m.\u001b[39m_espeak\u001b[38;5;241m.\u001b[39mlibrary_path)\n",
      "File \u001b[1;32me:\\AI\\openchat\\server\\.venv\\lib\\site-packages\\phonemizer\\backend\\base.py:77\u001b[0m, in \u001b[0;36mBaseBackend.__init__\u001b[1;34m(self, language, punctuation_marks, preserve_punctuation, logger)\u001b[0m\n\u001b[0;32m     75\u001b[0m \u001b[38;5;66;03m# ensure the backend is installed on the system\u001b[39;00m\n\u001b[0;32m     76\u001b[0m \u001b[38;5;28;01mif\u001b[39;00m \u001b[38;5;129;01mnot\u001b[39;00m \u001b[38;5;28mself\u001b[39m\u001b[38;5;241m.\u001b[39mis_available():\n\u001b[1;32m---> 77\u001b[0m     \u001b[38;5;28;01mraise\u001b[39;00m \u001b[38;5;167;01mRuntimeError\u001b[39;00m(  \u001b[38;5;66;03m# pragma: nocover\u001b[39;00m\n\u001b[0;32m     78\u001b[0m         \u001b[38;5;124m'\u001b[39m\u001b[38;5;132;01m{}\u001b[39;00m\u001b[38;5;124m not installed on your system\u001b[39m\u001b[38;5;124m'\u001b[39m\u001b[38;5;241m.\u001b[39mformat(\u001b[38;5;28mself\u001b[39m\u001b[38;5;241m.\u001b[39mname()))\n\u001b[0;32m     80\u001b[0m \u001b[38;5;28mself\u001b[39m\u001b[38;5;241m.\u001b[39m_logger \u001b[38;5;241m=\u001b[39m logger\n\u001b[0;32m     81\u001b[0m \u001b[38;5;28mself\u001b[39m\u001b[38;5;241m.\u001b[39m_logger\u001b[38;5;241m.\u001b[39minfo(\n\u001b[0;32m     82\u001b[0m     \u001b[38;5;124m'\u001b[39m\u001b[38;5;124minitializing backend \u001b[39m\u001b[38;5;132;01m%s\u001b[39;00m\u001b[38;5;124m-\u001b[39m\u001b[38;5;132;01m%s\u001b[39;00m\u001b[38;5;124m'\u001b[39m,\n\u001b[0;32m     83\u001b[0m     \u001b[38;5;28mself\u001b[39m\u001b[38;5;241m.\u001b[39mname(), \u001b[38;5;124m'\u001b[39m\u001b[38;5;124m.\u001b[39m\u001b[38;5;124m'\u001b[39m\u001b[38;5;241m.\u001b[39mjoin(\u001b[38;5;28mstr\u001b[39m(v) \u001b[38;5;28;01mfor\u001b[39;00m v \u001b[38;5;129;01min\u001b[39;00m \u001b[38;5;28mself\u001b[39m\u001b[38;5;241m.\u001b[39mversion()))\n",
      "\u001b[1;31mRuntimeError\u001b[0m: espeak not installed on your system"
     ]
    }
   ],
   "source": [
    "from phonemizer import phonemize\n",
    "import librosa\n",
    "import json\n",
    "import sys\n",
    "\n",
    "text=\"Aloy here. I don't know this world, but my arrows are sharp and my bow's ready. If your party needs help, I'll do what I can.\"\n",
    "audio_path=\"E:\\\\AI\\\\openchat\\\\server\\\\voice.wav\"\n",
    "\n",
    "# Step 1: Convert text to phonemes\n",
    "phonemes_str = phonemize(\n",
    "    text,\n",
    "    language='en-us',\n",
    "    backend='espeak',\n",
    "    strip=True,\n",
    "    preserve_punctuation=False\n",
    ")\n",
    "phonemes = phonemes_str.split()\n",
    "\n",
    "# Step 2: Get audio duration\n",
    "y, sr = librosa.load(audio_path, sr=None)\n",
    "duration = librosa.get_duration(y=y, sr=sr)\n",
    "\n",
    "# Step 3: Distribute timings evenly\n",
    "time_per_phoneme = duration / len(phonemes)\n",
    "timings = []\n",
    "t = 0\n",
    "for p in phonemes:\n",
    "    timings.append({\n",
    "        \"phoneme\": p,\n",
    "        \"start\": round(t, 3),\n",
    "        \"end\": round(t + time_per_phoneme, 3)\n",
    "    })\n",
    "    t += time_per_phoneme\n",
    "\n",
    "# Step 4: Save to JSON\n",
    "output_path = audio_path.replace(\".wav\", \"_phonemes.json\")\n",
    "with open(output_path, \"w\") as f:\n",
    "    json.dump(timings, f, indent=2)\n",
    "\n",
    "print(f\"Phoneme timings saved to {output_path}\")"
   ]
  }
 ],
 "metadata": {
  "kernelspec": {
   "display_name": ".venv",
   "language": "python",
   "name": "python3"
  },
  "language_info": {
   "codemirror_mode": {
    "name": "ipython",
    "version": 3
   },
   "file_extension": ".py",
   "mimetype": "text/x-python",
   "name": "python",
   "nbconvert_exporter": "python",
   "pygments_lexer": "ipython3",
   "version": "3.10.11"
  }
 },
 "nbformat": 4,
 "nbformat_minor": 5
}
