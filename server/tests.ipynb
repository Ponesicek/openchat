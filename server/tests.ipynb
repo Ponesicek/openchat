{
 "cells": [
  {
   "cell_type": "markdown",
   "id": "b1310ab0",
   "metadata": {},
   "source": [
    "Benchmark: RTX 4060 ti 16GB Time to first byte: 0.704 seconds; No stutter; "
   ]
  },
  {
   "cell_type": "code",
   "execution_count": 2,
   "id": "081127c0",
   "metadata": {},
   "outputs": [],
   "source": [
    "import requests\n",
    "import sounddevice as sd\n",
    "import numpy as np\n",
    "\n",
    "text = \"Everyone has the right to freedom of thought, conscience and religion; this right includes freedom to change his religion or belief, and freedom, either alone or in community with others and in public or private, to manifest his religion or belief in teaching, practice, worship and observance.\"\n",
    "voice=\"E:\\\\AI\\\\openchat\\\\server\\\\voice.ogg\"\n",
    "prompt_text=\"Aloy here. I don't know this world, but my arrows are sharp and my bow's ready. If your party needs help, I'll do what I can.\"\n",
    "\n",
    "url = (\n",
    "    \"http://127.0.0.1:9880/tts\"\n",
    "    \"?text={}\"\n",
    "    \"&text_lang=en\"\n",
    "    \"&ref_audio_path={}\"\n",
    "    \"&prompt_lang=en\"\n",
    "    \"&prompt_text={}\"\n",
    "    \"&text_split_method=cut5\"\n",
    "    \"&batch_size=1\"\n",
    "    \"&media_type=wav\"\n",
    "    \"&streaming_mode=true\"\n",
    ").format(text, voice, prompt_text)\n",
    "\n",
    "samplerate = 32000 \n",
    "channels = 1  # or 2 depending on your TTS output"
   ]
  },
  {
   "cell_type": "code",
   "execution_count": 3,
   "id": "521013b7",
   "metadata": {},
   "outputs": [],
   "source": [
    "with requests.get(url, stream=True) as r:\n",
    "    header_skipped = False\n",
    "    with sd.OutputStream(samplerate=samplerate, channels=channels, dtype=\"int16\") as stream:\n",
    "        for chunk in r.iter_content(chunk_size=4096):\n",
    "            if not chunk:\n",
    "                continue\n",
    "            if not header_skipped:\n",
    "                # Skip WAV header (44 bytes for PCM)\n",
    "                if len(chunk) <= 44:\n",
    "                    continue\n",
    "                chunk = chunk[44:]\n",
    "                header_skipped = True\n",
    "            audio_array = np.frombuffer(chunk, dtype=np.int16)\n",
    "            if len(audio_array) > 0:\n",
    "                stream.write(audio_array)"
   ]
  }
 ],
 "metadata": {
  "kernelspec": {
   "display_name": ".venv",
   "language": "python",
   "name": "python3"
  },
  "language_info": {
   "codemirror_mode": {
    "name": "ipython",
    "version": 3
   },
   "file_extension": ".py",
   "mimetype": "text/x-python",
   "name": "python",
   "nbconvert_exporter": "python",
   "pygments_lexer": "ipython3",
   "version": "3.10.11"
  }
 },
 "nbformat": 4,
 "nbformat_minor": 5
}
