{
 "cells": [
  {
   "cell_type": "code",
   "execution_count": 1,
   "id": "82c9ee83",
   "metadata": {},
   "outputs": [
    {
     "ename": "ModuleNotFoundError",
     "evalue": "No module named 'gradio_client'",
     "output_type": "error",
     "traceback": [
      "\u001b[1;31m---------------------------------------------------------------------------\u001b[0m",
      "\u001b[1;31mModuleNotFoundError\u001b[0m                       Traceback (most recent call last)",
      "Cell \u001b[1;32mIn[1], line 1\u001b[0m\n\u001b[1;32m----> 1\u001b[0m \u001b[38;5;28;01mfrom\u001b[39;00m\u001b[38;5;250m \u001b[39m\u001b[38;5;21;01mgradio_client\u001b[39;00m\u001b[38;5;250m \u001b[39m\u001b[38;5;28;01mimport\u001b[39;00m Client, file\n",
      "\u001b[1;31mModuleNotFoundError\u001b[0m: No module named 'gradio_client'"
     ]
    }
   ],
   "source": [
    "from gradio_client import Client, file"
   ]
  },
  {
   "cell_type": "code",
   "execution_count": null,
   "id": "9a38760d",
   "metadata": {},
   "outputs": [],
   "source": [
    "client = Client(\"http://localhost:9872/\")"
   ]
  },
  {
   "cell_type": "code",
   "execution_count": null,
   "id": "04934f5e",
   "metadata": {},
   "outputs": [],
   "source": [
    "result = client.predict(\n",
    "\t\tref_wav_path=file('VO_Aloy_Hello.ogg'),\n",
    "\t\tprompt_text=\"Aloy here. I don't know this world, but my arrows are sharp and my bow's ready. If your party needs help, I'll do what I can.\",\n",
    "\t\tprompt_language=\"en\",\n",
    "\t\ttext=\"Like and subscribe\",\n",
    "\t\ttext_language=\"en\",\n",
    "\t\thow_to_cut=\"Cut by English period\",\n",
    "\t\ttop_k=15,\n",
    "\t\ttop_p=1,\n",
    "\t\ttemperature=1,\n",
    "\t\tref_free=False,\n",
    "\t\tspeed=1,\n",
    "\t\tif_freeze=False,\n",
    "\t\tinp_refs=None,\n",
    "\t\tsample_steps=\"32\",\n",
    "\t\tif_sr=False,\n",
    "\t\tpause_second=0.3,\n",
    "\t\tapi_name=\"/get_tts_wav\"\n",
    ")\n",
    "print(result)"
   ]
  }
 ],
 "metadata": {
  "kernelspec": {
   "display_name": ".venv",
   "language": "python",
   "name": "python3"
  },
  "language_info": {
   "codemirror_mode": {
    "name": "ipython",
    "version": 3
   },
   "file_extension": ".py",
   "mimetype": "text/x-python",
   "name": "python",
   "nbconvert_exporter": "python",
   "pygments_lexer": "ipython3",
   "version": "3.10.11"
  }
 },
 "nbformat": 4,
 "nbformat_minor": 5
}
